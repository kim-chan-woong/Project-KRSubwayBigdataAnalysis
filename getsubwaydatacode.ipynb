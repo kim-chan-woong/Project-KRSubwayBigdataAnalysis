{
 "cells": [
  {
   "cell_type": "code",
   "execution_count": null,
   "metadata": {},
   "outputs": [],
   "source": [
    "!python --version"
   ]
  },
  {
   "cell_type": "code",
   "execution_count": null,
   "metadata": {},
   "outputs": [],
   "source": [
    "import urllib.request \n",
    "import json \n",
    "import pandas as pd \n",
    "from pandas.io.json import json_normalize\n",
    "import os\n",
    "import os.path\n",
    "import csv\n",
    "\n",
    "# 2015 ~ 2020 6년간의 데이터\n",
    "year=['2015', '2016', '2017', '2018', '2019', '2020']\n",
    "\n",
    "# 각 연도별 모든 일수의 데이터를 받기 위한 날짜 카운트 반복문\n",
    "for i in year:\n",
    "    # 데이터를 담을 초기 빈 데이터 프레임 생성\n",
    "    df=pd.DataFrame(columns=['USE_DT', 'LINE_NUM', 'SUB_STA_NM', 'RIDE_PASGR_NUM', 'ALIGHT_PASGR_NUM', 'WORK_DT'])\n",
    "    # 각 연도별 1월 1일부터 12월 31일 까지 반복\n",
    "    dt_index=pd.date_range(start=i + '0101', end=i + '1231')\n",
    "    # 날짜들을 리스트로 변환 후 다음 반복문에 전달\n",
    "    dt_list=dt_index.strftime(\"%Y%m%d\").tolist()\n",
    "\n",
    "    # 반복 중 각 날짜를 api 파라미터에 전달하여 모든 일자의 데이터를 받음\n",
    "    for j in dt_list:\n",
    "            #\"http://openapi.seoul.go.kr:8088/api키/가져올 형식/가져온 형식 중 데이터 선택/가져올 시작 행/끝행/가져올 날짜\n",
    "            # api 키는 서울 열린데이터 광장에서 발급받아야 함, json 형식으로 받으며\n",
    "            # 해당 프로젝트에서는 CardSubwayStatsNew라는 테이블이 필요\n",
    "            # 한 번에 불러올 수 있는 데이터 행의 갯수는 1000개이고, 본 프로젝트의 수집해야할 데이터는\n",
    "            # 일별 500~600개 정도이므로 무관, 반복문을 통해 날짜를 지속적으로 할당하여 6년간의 데이터를 수집\n",
    "        url=\"http://openapi.seoul.go.kr:8088/your api key/json/CardSubwayStatsNew/1/1000/\" + j\n",
    "        response=urllib.request.urlopen(url) \n",
    "        json_str=response.read().decode(\"utf-8\")\n",
    "        json_object=json.loads(json_str)\n",
    "        # json 데이터를 dataframe에 추가\n",
    "        df_temp=pd.json_normalize(json_object['CardSubwayStatsNew']['row'])\n",
    "        df=df.append(df_temp)\n",
    "     \n",
    "    # 연도별로 수집 완료된 dataframe을 csv형태로 추출\n",
    "    df.to_csv('save path' + i + '.csv', mode = 'w', encoding='utf-8-sig', index=False)\n",
    "    # 잘 실행되고 있는지 print\n",
    "    print(i + \" success!\")"
   ]
  }
 ],
 "metadata": {
  "kernelspec": {
   "display_name": "Python 3",
   "language": "python",
   "name": "python3"
  },
  "language_info": {
   "codemirror_mode": {
    "name": "ipython",
    "version": 3
   },
   "file_extension": ".py",
   "mimetype": "text/x-python",
   "name": "python",
   "nbconvert_exporter": "python",
   "pygments_lexer": "ipython3",
   "version": "3.8.5"
  }
 },
 "nbformat": 4,
 "nbformat_minor": 4
}
